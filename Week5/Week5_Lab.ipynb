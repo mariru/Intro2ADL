{
 "cells": [
  {
   "cell_type": "code",
   "execution_count": null,
   "metadata": {},
   "outputs": [],
   "source": [
    "## Put necessary imports here"
   ]
  },
  {
   "cell_type": "markdown",
   "metadata": {},
   "source": [
    "# Lab for Week 5: Fitting a Feed Forward Neural Network\n",
    "\n",
    "In Milestone 1 you chose a project topic you are interested in and found some datasets you could use. You also already built a [data loader](https://pytorch.org/tutorials/beginner/basics/data_tutorial.html).\n",
    "\n",
    "Today, we will fit a baseline feed forward neural network to one of the datasets you chose by following the pytorch tutorials."
   ]
  },
  {
   "cell_type": "markdown",
   "metadata": {},
   "source": [
    "## Step 1: Define a Data Loader\n",
    "You are encouraged to use one of the data loaders you built for milestone 1. Otherwise use the one described [here](https://pytorch.org/tutorials/beginner/basics/data_tutorial.html).\n",
    "\n",
    "Tip: If your targets are labels, you might want to use the lambda transformation described [here](https://pytorch.org/tutorials/beginner/basics/transforms_tutorial.html) to turn your target into one-hot vectors."
   ]
  },
  {
   "cell_type": "code",
   "execution_count": null,
   "metadata": {},
   "outputs": [],
   "source": [
    "# Load data"
   ]
  },
  {
   "cell_type": "markdown",
   "metadata": {},
   "source": [
    "## Step 2: Define a Model\n",
    "Follow [this tutorial](https://pytorch.org/tutorials/beginner/basics/buildmodel_tutorial.html) to define a model. Make sure that the input dimension fits the dimensionality of your data, and the output dimension fits the dimensionality of your targets."
   ]
  },
  {
   "cell_type": "code",
   "execution_count": null,
   "metadata": {},
   "outputs": [],
   "source": [
    "# Define Model\n",
    "\n",
    "class MyNeuralNetwork(nn.Module):\n",
    "    ..."
   ]
  },
  {
   "cell_type": "markdown",
   "metadata": {},
   "source": []
  },
  {
   "cell_type": "markdown",
   "metadata": {},
   "source": [
    "## Step 3: Train Model\n",
    "\n",
    "Follow the tutorial [here](https://pytorch.org/tutorials/beginner/basics/optimization_tutorial.html) to train your model."
   ]
  },
  {
   "cell_type": "code",
   "execution_count": null,
   "metadata": {},
   "outputs": [],
   "source": [
    "def train_loop(...):\n",
    "    \"\"\"\n",
    "    Runs one full training epoch on the given model using the provided dataloader.\n",
    "\n",
    "    Parameters:\n",
    "        dataloader (torch.utils.data.DataLoader): DataLoader providing batches of training data (inputs and labels).\n",
    "        model (torch.nn.Module): The PyTorch model to be trained.\n",
    "        loss_fn (function): The loss function used to compute the error between predictions and true labels.\n",
    "        optimizer (torch.optim.Optimizer): The optimizer used to update the model parameters.\n",
    "\n",
    "    Behavior:\n",
    "        - Sets the model to training mode (important for layers like dropout and batch normalization).\n",
    "        - Iterates over the data batches:\n",
    "            - Computes the model's predictions.\n",
    "            - Calculates the loss.\n",
    "            - Performs backpropagation and updates model weights.\n",
    "        - Prints progress every 100 batches, showing the current loss and the number of samples processed.\n",
    "\n",
    "    Returns:\n",
    "        None\n",
    "    \"\"\"\n",
    "#    TODO: Implement this function\n",
    "\n",
    "def test_loop(...):\n",
    "    \"\"\"\n",
    "    Evaluates the model's performance on a test dataset.\n",
    "\n",
    "    Parameters:\n",
    "        dataloader (torch.utils.data.DataLoader): DataLoader providing batches of test data (inputs and labels).\n",
    "        model (torch.nn.Module): The PyTorch model to be evaluated.\n",
    "        loss_fn (function): The loss function used to compute the error between predictions and true labels.\n",
    "\n",
    "    Behavior:\n",
    "        - Sets the model to evaluation mode (which disables behaviors like dropout).\n",
    "        - Iterates over the test data without computing gradients (using torch.no_grad() for efficiency).\n",
    "        - Accumulates the total loss and counts the number of correct predictions.\n",
    "        - Computes the average loss and overall accuracy.\n",
    "        - Prints the test accuracy and average loss.\n",
    "\n",
    "    Returns:\n",
    "        None\n",
    "    \"\"\" \n",
    "    # TODO: Implement this function"
   ]
  },
  {
   "cell_type": "code",
   "execution_count": null,
   "metadata": {},
   "outputs": [],
   "source": [
    "# Train the model for 3 different hyper parameter settings (e.g. different learning rates, different loss functions that make sense for your data, etc.)\n",
    "\n",
    "loss = ..."
   ]
  },
  {
   "cell_type": "markdown",
   "metadata": {},
   "source": [
    "## Step 4: Record results\n",
    "\n",
    "Results are typically recorded in a table. For inspiration, check out the famous [Attention is All You Need paper](https://arxiv.org/abs/1706.03762). This paper first introduced the transformer architecture we will learn about later this semseter and has been highly influential in deep learnin. Check out how results are reported in Tables 2, 3, and 4.\n",
    "Note that because here the transformers are used for text generation results are reported using the BLEU score (the higher the better). \n",
    "\n",
    "You should create your own result tables to record how different hyperparameter settings affect performance. Make sure to record test accuracy, not traingin accuracy!"
   ]
  },
  {
   "cell_type": "markdown",
   "metadata": {},
   "source": []
  },
  {
   "cell_type": "markdown",
   "metadata": {},
   "source": []
  }
 ],
 "metadata": {
  "language_info": {
   "name": "python"
  }
 },
 "nbformat": 4,
 "nbformat_minor": 2
}
